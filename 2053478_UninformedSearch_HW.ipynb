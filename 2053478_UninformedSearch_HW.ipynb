{
  "cells": [
    {
      "cell_type": "markdown",
      "metadata": {
        "id": "mm5b-FZhfA5H"
      },
      "source": [
        "Students refer to pseudo codes of BFS, DFS, UCS, DLS, and IDS in [this link](https://drive.google.com/file/d/1q2LtrRCfemfiqyhfxNMcVJ3alvLh_pdV/view?usp=share_link) to implement the corresponding classes in TODO 1 - 5. \\\n",
        "Students can add supporting attributes and methods to the five classes of search strategies as needed."
      ]
    },
    {
      "cell_type": "markdown",
      "metadata": {
        "id": "9In-lpCRc7rc"
      },
      "source": [
        "# Libraries"
      ]
    },
    {
      "cell_type": "code",
      "execution_count": 11,
      "metadata": {
        "id": "baZnzmhNW8KU"
      },
      "outputs": [],
      "source": [
        "import os\n",
        "import heapq\n",
        "\n",
        "from collections import deque"
      ]
    },
    {
      "cell_type": "markdown",
      "metadata": {
        "id": "Hm_qjIb4dB8a"
      },
      "source": [
        "# Graph class"
      ]
    },
    {
      "cell_type": "code",
      "execution_count": 2,
      "metadata": {
        "id": "IBUbARThU6VK"
      },
      "outputs": [],
      "source": [
        "# Directed, weighted graphs\n",
        "class Graph:\n",
        "  def __init__(self):\n",
        "    self.AL = dict() # adjacency list\n",
        "    self.V = 0\n",
        "    self.E = 0\n",
        "\n",
        "  def __str__(self):\n",
        "    res = 'V: %d, E: %d\\n'%(self.V, self.E)\n",
        "    for u, neighbors in self.AL.items():\n",
        "      line = '%d: %s\\n'%(u, str(neighbors))\n",
        "      res += line\n",
        "    return res\n",
        "\n",
        "  def print(self):\n",
        "    print(str(self))\n",
        "\n",
        "  def load_from_file(self, filename):\n",
        "    '''\n",
        "        Example input file:\n",
        "            V E\n",
        "            u v w\n",
        "            u v w\n",
        "            u v w\n",
        "            ...\n",
        "\n",
        "        # input.txt\n",
        "        7 8\n",
        "        0 1 5\n",
        "        0 2 6\n",
        "        1 3 12\n",
        "        1 4 9\n",
        "        2 5 5\n",
        "        3 5 8\n",
        "        3 6 7\n",
        "        4 6 4\n",
        "    '''\n",
        "    if os.path.exists(filename):\n",
        "      with open(filename) as g:\n",
        "        self.V, self.E = [int(it) for it in g.readline().split()]\n",
        "        for line in g:\n",
        "          u, v, w = [int(it) for it in line.strip().split()]\n",
        "          if u not in self.AL:\n",
        "            self.AL[u] = []\n",
        "          self.AL[u].append((v, w))"
      ]
    },
    {
      "cell_type": "code",
      "execution_count": 3,
      "metadata": {
        "colab": {
          "base_uri": "https://localhost:8080/"
        },
        "id": "k_3EmSFKXtwk",
        "outputId": "ec8aaab5-0fb5-490d-b31f-cd7faa7ac44b"
      },
      "outputs": [
        {
          "output_type": "stream",
          "name": "stdout",
          "text": [
            "V: 0, E: 0\n",
            "\n"
          ]
        }
      ],
      "source": [
        "g = Graph()\n",
        "g.load_from_file('input.txt')\n",
        "g.print()"
      ]
    },
    {
      "cell_type": "markdown",
      "metadata": {
        "id": "95fgste5dFp0"
      },
      "source": [
        "# Search Strategies"
      ]
    },
    {
      "cell_type": "code",
      "execution_count": 4,
      "metadata": {
        "id": "DjEuaXToYqk6"
      },
      "outputs": [],
      "source": [
        "class SearchStrategy:\n",
        "  def search(self, g: Graph, src: int, dst: int) -> tuple:\n",
        "    expanded = [] # list of expanded vertices in the traversal order\n",
        "    path = [] # path from src to dst\n",
        "    return expanded, path"
      ]
    },
    {
      "cell_type": "code",
      "execution_count": 5,
      "metadata": {
        "id": "Iax-_lNJZcQc"
      },
      "outputs": [],
      "source": [
        "class BFS(SearchStrategy):\n",
        "  def search(self, g: Graph, src: int, dst: int) -> tuple:\n",
        "    expanded = [] # list of expanded vertices in the traversal order\n",
        "    path = [] # path from src to dst\n",
        "\n",
        "    # TODO 1\n",
        "    queue = deque([src])\n",
        "    came_from = {src: None}\n",
        "\n",
        "    while queue:\n",
        "      current = queue.popleft()\n",
        "      expanded.append(current)\n",
        "\n",
        "      if current == dst:\n",
        "        break\n",
        "\n",
        "      for neighbor, _ in g.AL.get(current, []):\n",
        "        if neighbor not in came_from:\n",
        "          queue.append(neighbor)\n",
        "          came_from[neighbor] = current\n",
        "\n",
        "    if dst in came_from:\n",
        "      current = dst\n",
        "      while current is not None:\n",
        "        path.insert(0, current)\n",
        "        current = came_from[current]\n",
        "\n",
        "    return expanded, path"
      ]
    },
    {
      "cell_type": "code",
      "execution_count": 6,
      "metadata": {
        "id": "nMO61eRTZrRS"
      },
      "outputs": [],
      "source": [
        "class DFS(SearchStrategy):\n",
        "  def search(self, g: Graph, src: int, dst: int) -> tuple:\n",
        "    expanded = [] # list of expanded vertices in the traversal order\n",
        "    path = [] # path from src to dst\n",
        "\n",
        "    # TODO 2\n",
        "    stack = [src]\n",
        "    came_from = {src: None}\n",
        "\n",
        "    while stack:\n",
        "      current = stack.pop()\n",
        "      if current not in expanded:\n",
        "        expanded.append(current)\n",
        "\n",
        "        if current == dst:\n",
        "          break\n",
        "\n",
        "        for neighbor, _ in reversed(g.AL.get(current, [])):\n",
        "          if neighbor not in came_from:\n",
        "            stack.append(neighbor)\n",
        "            came_from[neighbor] = current\n",
        "\n",
        "    if dst in came_from:\n",
        "      current = dst\n",
        "      while current is not None:\n",
        "        path.insert(0, current)\n",
        "        current = came_from[current]\n",
        "\n",
        "    return expanded, path"
      ]
    },
    {
      "cell_type": "code",
      "execution_count": 7,
      "metadata": {
        "id": "xp3Vi2j5Zr00"
      },
      "outputs": [],
      "source": [
        "class UCS(SearchStrategy):\n",
        "  def search(self, g: Graph, src: int, dst: int) -> tuple:\n",
        "    expanded = [] # list of expanded vertices in the traversal order\n",
        "    path = [] # path from src to dst\n",
        "\n",
        "    # TODO 3\n",
        "    frontier = [(0, src)]\n",
        "    came_from = {src: None}\n",
        "    cost_so_far = {src: 0}\n",
        "\n",
        "    while frontier:\n",
        "      current_cost, current = heapq.heappop(frontier)\n",
        "      expanded.append(current)\n",
        "\n",
        "      if current ==dst:\n",
        "        break\n",
        "\n",
        "      for neighbor, weight in g.AL.get(current, []):\n",
        "        new_cost = cost_so_far[current] + weight\n",
        "        if neighbor not in cost_so_far or new_cost < cost_so_far[neighbor]:\n",
        "          cost_so_far[neighbor] = new_cost\n",
        "          priority = new_cost\n",
        "          heapq.heappush(frontier, (priority, neighbor))\n",
        "          came_from[neighbor] = current\n",
        "\n",
        "        if dst in came_from:\n",
        "          current = dst\n",
        "          while current is not None:\n",
        "            path.insert(0, current)\n",
        "            current = came_from[current]\n",
        "\n",
        "    return expanded, path"
      ]
    },
    {
      "cell_type": "code",
      "execution_count": 8,
      "metadata": {
        "id": "akqnRp04Zsbt"
      },
      "outputs": [],
      "source": [
        "class DLS(SearchStrategy):\n",
        "  def __init__(self, LIM: int):\n",
        "    self.LIM = LIM\n",
        "\n",
        "  def search(self, g: Graph, src: int, dst: int) -> tuple:\n",
        "    expanded = [] # list of expanded vertices in the traversal order\n",
        "    path = [] # path from src to dst\n",
        "\n",
        "    # TODO 4\n",
        "    def dls_visit(node, depth, limit):\n",
        "      if depth > limit:\n",
        "        return False\n",
        "\n",
        "      expanded.append(node)\n",
        "      if node == dst:\n",
        "        return True\n",
        "\n",
        "      if depth == limit:\n",
        "        return False\n",
        "\n",
        "      for neighbor, _ in g.AL.get(node, []):\n",
        "        if dls_visit(neighbor, depth + 1, limit):\n",
        "          path.append(neighbor)\n",
        "          return True\n",
        "\n",
        "      return False\n",
        "\n",
        "    if dls_visit(src, 0, self.LIM):\n",
        "      path.insert(0, src)\n",
        "\n",
        "    path.reverse()\n",
        "    return expanded, path"
      ]
    },
    {
      "cell_type": "code",
      "execution_count": 9,
      "metadata": {
        "id": "os7VMwXIZ4f2"
      },
      "outputs": [],
      "source": [
        "class IDS(SearchStrategy):\n",
        "  def __init__(self, MAX_LIM: int):\n",
        "    self.MAX_LIM = MAX_LIM\n",
        "\n",
        "  def search(self, g: Graph, src: int, dst: int) -> tuple:\n",
        "    expanded = [] # list of expanded vertices in the traversal order\n",
        "    path = [] # path from src to dst\n",
        "\n",
        "    # TODO 5\n",
        "    for limit in range(self.MAX_LIM + 1):\n",
        "      dls = DLS(limit)\n",
        "      exp, pth = dls.search(g, src, dst)\n",
        "      expanded.extend(exp)\n",
        "      if pth:\n",
        "        path = pth\n",
        "        break\n",
        "\n",
        "    return expanded, path"
      ]
    },
    {
      "cell_type": "markdown",
      "metadata": {
        "id": "hzWhWbDMdItW"
      },
      "source": [
        "# Evaluation"
      ]
    },
    {
      "cell_type": "code",
      "execution_count": 12,
      "metadata": {
        "colab": {
          "base_uri": "https://localhost:8080/"
        },
        "id": "kI0wFSGuaKeT",
        "outputId": "2024dcf4-49d8-443a-a85b-3c2352f71957"
      },
      "outputs": [
        {
          "output_type": "stream",
          "name": "stdout",
          "text": [
            "<__main__.BFS object at 0x7b329a00b8e0>\n",
            "[0]\n",
            "[]\n",
            "<__main__.DFS object at 0x7b329a00a3b0>\n",
            "[0]\n",
            "[]\n",
            "<__main__.UCS object at 0x7b329a00a0e0>\n",
            "[0]\n",
            "[]\n",
            "<__main__.DLS object at 0x7b329a00b9d0>\n",
            "[0]\n",
            "[]\n",
            "<__main__.IDS object at 0x7b329a009fc0>\n",
            "[0, 0, 0, 0, 0, 0]\n",
            "[]\n"
          ]
        }
      ],
      "source": [
        "bfs = BFS()\n",
        "dfs = DFS()\n",
        "ucs = UCS()\n",
        "dls = DLS(LIM=3)\n",
        "ids = IDS(MAX_LIM=5)\n",
        "\n",
        "for stg in [bfs, dfs, ucs, dls, ids]:\n",
        "  print(stg)\n",
        "  expanded, path = stg.search(g, 0, g.V-1)\n",
        "  print(expanded)\n",
        "  print(path)\n",
        "\n",
        "\n"
      ]
    },
    {
      "cell_type": "markdown",
      "metadata": {
        "id": "v_juZ-dPUlpP"
      },
      "source": [
        "# Submission"
      ]
    },
    {
      "cell_type": "markdown",
      "metadata": {
        "id": "svA6tZBfUmt_"
      },
      "source": [
        "*   Students download the notebook after completion\n",
        "*   Rename the notebook in which inserting your student ID at the beginning. \\\n",
        "For example, **123456-UninformedSearch-HW.ipynb**\n",
        "*   Finally, submit the file"
      ]
    }
  ],
  "metadata": {
    "colab": {
      "provenance": []
    },
    "kernelspec": {
      "display_name": "Python 3",
      "name": "python3"
    },
    "language_info": {
      "name": "python"
    }
  },
  "nbformat": 4,
  "nbformat_minor": 0
}