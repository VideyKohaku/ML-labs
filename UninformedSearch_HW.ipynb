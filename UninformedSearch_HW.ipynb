{
 "cells": [
  {
   "cell_type": "markdown",
   "metadata": {
    "id": "mm5b-FZhfA5H"
   },
   "source": [
    "Students refer to pseudo codes of BFS, DFS, UCS, DLS, and IDS in [this link](https://drive.google.com/file/d/1q2LtrRCfemfiqyhfxNMcVJ3alvLh_pdV/view?usp=share_link) to implement the corresponding classes in TODO 1 - 5. \\\n",
    "Students can add supporting attributes and methods to the five classes of search strategies as needed."
   ]
  },
  {
   "cell_type": "markdown",
   "metadata": {
    "id": "9In-lpCRc7rc"
   },
   "source": [
    "# Libraries"
   ]
  },
  {
   "cell_type": "code",
   "execution_count": 601,
   "metadata": {
    "id": "baZnzmhNW8KU"
   },
   "outputs": [],
   "source": [
    "import os\n",
    "import heapq\n",
    "from collections import deque"
   ]
  },
  {
   "cell_type": "markdown",
   "metadata": {
    "id": "Hm_qjIb4dB8a"
   },
   "source": [
    "# Graph class"
   ]
  },
  {
   "cell_type": "code",
   "execution_count": 602,
   "metadata": {
    "id": "IBUbARThU6VK"
   },
   "outputs": [],
   "source": [
    "# Directed, weighted graphs\n",
    "class Graph:\n",
    "  def __init__(self):\n",
    "    self.AL = dict() # adjacency list\n",
    "    self.V = 0\n",
    "    self.E = 0\n",
    "\n",
    "  def __str__(self):\n",
    "    res = 'V: %d, E: %d\\n'%(self.V, self.E)\n",
    "    for u, neighbors in self.AL.items():\n",
    "      line = '%d: %s\\n'%(u, str(neighbors))\n",
    "      res += line\n",
    "    return res\n",
    "\n",
    "  def print(self):\n",
    "    print(str(self))\n",
    "\n",
    "  def load_from_file(self, filename):\n",
    "    '''\n",
    "        Example input file:\n",
    "            V E\n",
    "            u v w\n",
    "            u v w\n",
    "            u v w\n",
    "            ...\n",
    "\n",
    "        # input.txt\n",
    "        7 8\n",
    "        0 1 5\n",
    "        0 2 6\n",
    "        1 3 12\n",
    "        1 4 9\n",
    "        2 5 5\n",
    "        3 5 8\n",
    "        3 6 7\n",
    "        4 6 4\n",
    "    '''\n",
    "    if os.path.exists(filename):\n",
    "      with open(filename) as g:\n",
    "        self.V, self.E = [int(it) for it in g.readline().split()]\n",
    "        for line in g:\n",
    "          u, v, w = [int(it) for it in line.strip().split()]\n",
    "          if u not in self.AL:\n",
    "            self.AL[u] = []\n",
    "          self.AL[u].append((v, w))"
   ]
  },
  {
   "cell_type": "code",
   "execution_count": 603,
   "metadata": {
    "colab": {
     "base_uri": "https://localhost:8080/"
    },
    "id": "k_3EmSFKXtwk",
    "outputId": "3960d814-05f2-4bb5-aea5-4fcbb63afe77"
   },
   "outputs": [
    {
     "name": "stdout",
     "output_type": "stream",
     "text": [
      "V: 7, E: 8\n",
      "0: [(1, 5), (2, 6)]\n",
      "1: [(3, 2), (4, 9)]\n",
      "2: [(5, 7), (7, 2)]\n",
      "3: [(5, 1), (6, 7)]\n",
      "4: [(6, 4), (7, 3)]\n",
      "5: [(6, 2)]\n",
      "\n"
     ]
    }
   ],
   "source": [
    "g = Graph()\n",
    "g.load_from_file('input.txt')\n",
    "g.print()"
   ]
  },
  {
   "cell_type": "markdown",
   "metadata": {
    "id": "95fgste5dFp0"
   },
   "source": [
    "# Search Strategies"
   ]
  },
  {
   "cell_type": "code",
   "execution_count": 604,
   "metadata": {
    "id": "DjEuaXToYqk6"
   },
   "outputs": [],
   "source": [
    "class SearchStrategy:\n",
    "  parents = dict()\n",
    "  \n",
    "  def search(self, g: Graph, src: int, dst: int) -> tuple:\n",
    "    expanded = [] # list of expanded vertices in the traversal order\n",
    "    path = [] # path from src to dst\n",
    "    return expanded, path\n",
    "    \n",
    "  def findPath(self, src: int, dst: int) -> list:\n",
    "    path = [dst]\n",
    "    cur_node = dst\n",
    "    \n",
    "    while cur_node != src:\n",
    "      cur_node = self.parents[cur_node]\n",
    "      path.append(cur_node)\n",
    "    path.reverse()\n",
    "    \n",
    "    return path"
   ]
  },
  {
   "cell_type": "code",
   "execution_count": 605,
   "metadata": {
    "id": "Iax-_lNJZcQc"
   },
   "outputs": [],
   "source": [
    "class BFS(SearchStrategy):\n",
    "  def search(self, g: Graph, src: int, dst: int) -> tuple:\n",
    "    expanded = [] # list of expanded vertices in the traversal order\n",
    "    path = [] # path from src to dst\n",
    "    frontier = deque([src])\n",
    "    self.parents[src] = None \n",
    "    \n",
    "    neighbors = []\n",
    "    \n",
    "    # TODO\n",
    "    while frontier:\n",
    "      cur_node = frontier.popleft()\n",
    "      \n",
    "      if cur_node == dst:\n",
    "        expanded.append(cur_node)\n",
    "        path = self.findPath(src, dst)\n",
    "        continue\n",
    "      \n",
    "      expanded.append(cur_node)\n",
    "      \n",
    "      if cur_node in g.AL:\n",
    "        neighbors = g.AL[cur_node]\n",
    "      else:\n",
    "        neighbors = []\n",
    "      \n",
    "      for (v, _) in neighbors:\n",
    "        if v not in frontier and v not in expanded:\n",
    "          frontier.append(v)\n",
    "          self.parents[v] = cur_node\n",
    "      \n",
    "    return expanded, path"
   ]
  },
  {
   "cell_type": "code",
   "execution_count": 606,
   "metadata": {
    "id": "nMO61eRTZrRS"
   },
   "outputs": [],
   "source": [
    "class DFS(SearchStrategy):\n",
    "  def search(self, g: Graph, src: int, dst: int) -> tuple:\n",
    "    expanded = [] # list of expanded vertices in the traversal order\n",
    "    path = [] # path from src to dst\n",
    "    frontier = deque([src])\n",
    "    \n",
    "    neighbors = []\n",
    "    \n",
    "    # TODO\n",
    "    while frontier:\n",
    "      cur_node = frontier.pop()\n",
    "      if cur_node == dst:\n",
    "        expanded.append(cur_node)\n",
    "        path = self.findPath(src, dst)\n",
    "        continue\n",
    "      \n",
    "      expanded.append(cur_node)\n",
    "      \n",
    "      if cur_node in g.AL:\n",
    "        neighbors = g.AL[cur_node]\n",
    "      else:\n",
    "        neighbors = []\n",
    "      \n",
    "      for (v, _) in neighbors:\n",
    "        if v not in frontier and v not in expanded:\n",
    "          frontier.append(v)\n",
    "          self.parents[v] = cur_node\n",
    "      \n",
    "    return expanded, path"
   ]
  },
  {
   "cell_type": "code",
   "execution_count": 607,
   "metadata": {
    "id": "xp3Vi2j5Zr00"
   },
   "outputs": [],
   "source": [
    "class UCS(SearchStrategy):\n",
    "  def search(self, g: Graph, src: int, dst: int) -> tuple:\n",
    "    expanded = []  # list of expanded vertices in the traversal order\n",
    "    path = []  # path from src to dst\n",
    "    \n",
    "    frontier = []\n",
    "    path_costs = {src: 0}\n",
    "    heapq.heappush(frontier, (0, src))\n",
    "\n",
    "    neighbors = []\n",
    "\n",
    "    while frontier:\n",
    "      # print(\"frontier\", frontier)\n",
    "      weight, cur_node = heapq.heappop(frontier)\n",
    "      \n",
    "      if cur_node == dst:\n",
    "        expanded.append(cur_node)\n",
    "        path = self.findPath(src, dst)\n",
    "        continue\n",
    "      \n",
    "      expanded.append(cur_node)\n",
    "      \n",
    "      if cur_node in g.AL:\n",
    "        neighbors = g.AL[cur_node]\n",
    "      else:\n",
    "        neighbors = []\n",
    "      \n",
    "      for (v, w) in neighbors:\n",
    "        new_cost = path_costs[cur_node] + w\n",
    "        if ((v not in expanded and v not in path_costs) or\n",
    "           (v in path_costs and new_cost < path_costs[v]) ):\n",
    "          path_costs[v] = new_cost\n",
    "          heapq.heappush(frontier, (new_cost, v))\n",
    "          self.parents[v] = cur_node\n",
    "        \n",
    "\n",
    "    return expanded, path    "
   ]
  },
  {
   "cell_type": "code",
   "execution_count": 608,
   "metadata": {
    "id": "akqnRp04Zsbt"
   },
   "outputs": [],
   "source": [
    "class DLS(SearchStrategy):\n",
    "  def __init__(self, LIM: int):\n",
    "    self.LIM = LIM\n",
    "\n",
    "  def search(self, g: Graph, src: int, dst: int) -> tuple:\n",
    "    expanded = [] # list of expanded vertices in the traversal order\n",
    "    path = [] # path from src to dst\n",
    "    frontier = deque([(src, 0)])\n",
    "    \n",
    "    neighbors = []\n",
    "    \n",
    "    # TODO\n",
    "    while frontier:\n",
    "      cur_node, cur_depth = frontier.pop()\n",
    "      if cur_node == dst:\n",
    "        expanded.append(cur_node)\n",
    "        path = self.findPath(src, dst)\n",
    "        continue\n",
    "      \n",
    "      expanded.append(cur_node)\n",
    "      \n",
    "      if cur_node in g.AL:\n",
    "        neighbors = g.AL[cur_node]\n",
    "      else:\n",
    "        neighbors = []\n",
    "      \n",
    "      if cur_depth < self.LIM:\n",
    "        for (v, _) in neighbors:\n",
    "          if v not in frontier and v not in expanded:\n",
    "            frontier.append((v, cur_depth + 1))\n",
    "            self.parents[v] = cur_node\n",
    "      \n",
    "    return expanded, path"
   ]
  },
  {
   "cell_type": "code",
   "execution_count": 609,
   "metadata": {
    "id": "os7VMwXIZ4f2"
   },
   "outputs": [],
   "source": [
    "class IDS(SearchStrategy):\n",
    "  def __init__(self, MAX_LIM: int):\n",
    "    self.MAX_LIM = MAX_LIM\n",
    "\n",
    "  def search(self, g: Graph, src: int, dst: int) -> tuple:\n",
    "    expanded = [] # list of expanded vertices in the traversal order\n",
    "    path = [] # path from src to dst\n",
    "    \n",
    "    # TODO 5\n",
    "    for lim in range(0, self.MAX_LIM + 1):\n",
    "      dls = DLS(lim)\n",
    "      expanded, path = dls.search(g, src, dst)\n",
    "\n",
    "    return expanded, path"
   ]
  },
  {
   "cell_type": "markdown",
   "metadata": {
    "id": "hzWhWbDMdItW"
   },
   "source": [
    "# Evaluation"
   ]
  },
  {
   "cell_type": "code",
   "execution_count": 610,
   "metadata": {
    "colab": {
     "base_uri": "https://localhost:8080/"
    },
    "id": "kI0wFSGuaKeT",
    "outputId": "62de56b5-b030-4ad2-c24a-b9895fc8e00e"
   },
   "outputs": [
    {
     "name": "stdout",
     "output_type": "stream",
     "text": [
      "<__main__.BFS object at 0x00000214AFBD43E0>\n",
      "[0, 1, 2, 3, 4, 5, 7, 6]\n",
      "[0, 1, 3, 6]\n",
      "<__main__.DFS object at 0x00000214AFBD5D60>\n",
      "[0, 2, 7, 5, 6, 1, 4, 3]\n",
      "[0, 2, 5, 6]\n",
      "<__main__.UCS object at 0x00000214AFBD4DD0>\n",
      "[0, 1, 2, 3, 5, 7, 6, 5, 4, 6]\n",
      "[0, 1, 3, 5, 6]\n",
      "<__main__.DLS object at 0x00000214AFBCCE00>\n",
      "[0, 2, 7, 5, 6, 1, 4, 3]\n",
      "[0, 2, 5, 6]\n",
      "<__main__.IDS object at 0x00000214AFBCDC40>\n",
      "[0, 2, 7, 5, 6, 1, 4, 3]\n",
      "[0, 2, 5, 6]\n"
     ]
    }
   ],
   "source": [
    "bfs = BFS()\n",
    "dfs = DFS()\n",
    "ucs = UCS()\n",
    "dls = DLS(LIM=3)\n",
    "ids = IDS(MAX_LIM=5)\n",
    "\n",
    "for stg in [bfs, dfs, ucs, dls, ids]:\n",
    "  print(stg)\n",
    "  expanded, path = stg.search(g, 0, g.V-1)\n",
    "  print(expanded)\n",
    "  print(path)\n",
    "\n",
    "\n"
   ]
  },
  {
   "cell_type": "markdown",
   "metadata": {
    "id": "v_juZ-dPUlpP"
   },
   "source": [
    "# Submission"
   ]
  },
  {
   "cell_type": "markdown",
   "metadata": {
    "id": "svA6tZBfUmt_"
   },
   "source": [
    "*   Students download the notebook after completion\n",
    "*   Rename the notebook in which inserting your student ID at the beginning. \\\n",
    "For example, **123456-UninformedSearch-HW.ipynb**\n",
    "*   Finally, submit the file"
   ]
  }
 ],
 "metadata": {
  "colab": {
   "provenance": []
  },
  "kernelspec": {
   "display_name": "Python 3 (ipykernel)",
   "language": "python",
   "name": "python3"
  },
  "language_info": {
   "codemirror_mode": {
    "name": "ipython",
    "version": 3
   },
   "file_extension": ".py",
   "mimetype": "text/x-python",
   "name": "python",
   "nbconvert_exporter": "python",
   "pygments_lexer": "ipython3",
   "version": "3.12.2"
  }
 },
 "nbformat": 4,
 "nbformat_minor": 4
}
