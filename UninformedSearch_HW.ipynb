{
 "cells": [
  {
   "cell_type": "markdown",
   "metadata": {
    "id": "mm5b-FZhfA5H"
   },
   "source": [
    "Students refer to pseudo codes of BFS, DFS, UCS, DLS, and IDS in [this link](https://drive.google.com/file/d/1q2LtrRCfemfiqyhfxNMcVJ3alvLh_pdV/view?usp=share_link) to implement the corresponding classes in TODO 1 - 5. \\\n",
    "Students can add supporting attributes and methods to the five classes of search strategies as needed."
   ]
  },
  {
   "cell_type": "markdown",
   "metadata": {
    "id": "9In-lpCRc7rc"
   },
   "source": [
    "# Libraries"
   ]
  },
  {
   "cell_type": "code",
   "execution_count": 378,
   "metadata": {
    "id": "baZnzmhNW8KU"
   },
   "outputs": [],
   "source": [
    "import os\n",
    "import heapq\n",
    "from collections import deque"
   ]
  },
  {
   "cell_type": "markdown",
   "metadata": {
    "id": "Hm_qjIb4dB8a"
   },
   "source": [
    "# Graph class"
   ]
  },
  {
   "cell_type": "code",
   "execution_count": 379,
   "metadata": {
    "id": "IBUbARThU6VK"
   },
   "outputs": [],
   "source": [
    "# Directed, weighted graphs\n",
    "class Graph:\n",
    "  def __init__(self):\n",
    "    self.AL = dict() # adjacency list\n",
    "    self.V = 0\n",
    "    self.E = 0\n",
    "\n",
    "  def __str__(self):\n",
    "    res = 'V: %d, E: %d\\n'%(self.V, self.E)\n",
    "    for u, neighbors in self.AL.items():\n",
    "      line = '%d: %s\\n'%(u, str(neighbors))\n",
    "      res += line\n",
    "    return res\n",
    "\n",
    "  def print(self):\n",
    "    print(str(self))\n",
    "\n",
    "  def load_from_file(self, filename):\n",
    "    '''\n",
    "        Example input file:\n",
    "            V E\n",
    "            u v w\n",
    "            u v w\n",
    "            u v w\n",
    "            ...\n",
    "\n",
    "        # input.txt\n",
    "        7 8\n",
    "        0 1 5\n",
    "        0 2 6\n",
    "        1 3 12\n",
    "        1 4 9\n",
    "        2 5 5\n",
    "        3 5 8\n",
    "        3 6 7\n",
    "        4 6 4\n",
    "    '''\n",
    "    if os.path.exists(filename):\n",
    "      with open(filename) as g:\n",
    "        self.V, self.E = [int(it) for it in g.readline().split()]\n",
    "        for line in g:\n",
    "          u, v, w = [int(it) for it in line.strip().split()]\n",
    "          if u not in self.AL:\n",
    "            self.AL[u] = []\n",
    "          self.AL[u].append((v, w))"
   ]
  },
  {
   "cell_type": "code",
   "execution_count": 380,
   "metadata": {
    "colab": {
     "base_uri": "https://localhost:8080/"
    },
    "id": "k_3EmSFKXtwk",
    "outputId": "3960d814-05f2-4bb5-aea5-4fcbb63afe77"
   },
   "outputs": [
    {
     "name": "stdout",
     "output_type": "stream",
     "text": [
      "V: 10, E: 12\n",
      "0: [(1, 7), (2, 6)]\n",
      "1: [(3, 12), (4, 9)]\n",
      "2: [(5, 5)]\n",
      "3: [(5, 8), (6, 7), (8, 10)]\n",
      "4: [(6, 4)]\n",
      "5: [(7, 4)]\n",
      "6: [(8, 3)]\n",
      "8: [(9, 1)]\n",
      "\n"
     ]
    }
   ],
   "source": [
    "g = Graph()\n",
    "g.load_from_file('input.txt')\n",
    "g.print()"
   ]
  },
  {
   "cell_type": "markdown",
   "metadata": {
    "id": "95fgste5dFp0"
   },
   "source": [
    "# Search Strategies"
   ]
  },
  {
   "cell_type": "code",
   "execution_count": 381,
   "metadata": {
    "id": "DjEuaXToYqk6"
   },
   "outputs": [],
   "source": [
    "class SearchStrategy:\n",
    "  def search(self, g: Graph, src: int, dst: int) -> tuple:\n",
    "    expanded = [] # list of expanded vertices in the traversal order\n",
    "    path = [] # path from src to dst\n",
    "    return expanded, path\n",
    "    "
   ]
  },
  {
   "cell_type": "code",
   "execution_count": 382,
   "metadata": {
    "id": "Iax-_lNJZcQc"
   },
   "outputs": [],
   "source": [
    "class BFS(SearchStrategy):\n",
    "  def search(self, g: Graph, src: int, dst: int) -> tuple:\n",
    "    expanded = [] # list of expanded vertices in the traversal order\n",
    "    path = [] # path from src to dst\n",
    "    frontier = deque([src])\n",
    "    parent = {src: None} \n",
    "    \n",
    "    # TODO\n",
    "    while frontier:\n",
    "      cur_node = frontier.popleft()\n",
    "      \n",
    "      if cur_node == dst:\n",
    "        expanded.append(cur_node)\n",
    "        path.append(cur_node)\n",
    "        while cur_node != src:\n",
    "          cur_node = parent[cur_node]\n",
    "          path.append(cur_node)\n",
    "        path.reverse()\n",
    "        continue\n",
    "      \n",
    "      expanded.append(cur_node)\n",
    "      \n",
    "      if cur_node in g.AL:\n",
    "        neighbors = g.AL[cur_node]\n",
    "      \n",
    "      for (v, _) in neighbors:\n",
    "        if v not in frontier and v not in expanded:\n",
    "          frontier.append(v)\n",
    "          parent[v] = cur_node\n",
    "      \n",
    "    return expanded, path"
   ]
  },
  {
   "cell_type": "code",
   "execution_count": 383,
   "metadata": {
    "id": "nMO61eRTZrRS"
   },
   "outputs": [],
   "source": [
    "class DFS(SearchStrategy):\n",
    "  def search(self, g: Graph, src: int, dst: int) -> tuple:\n",
    "    expanded = [] # list of expanded vertices in the traversal order\n",
    "    path = [] # path from src to dst\n",
    "    frontier = deque([src])\n",
    "    parents = {src: None}\n",
    "    \n",
    "    # TODO 2\n",
    "    # exp[0]\n",
    "    # front[1,2]\n",
    "    while frontier:\n",
    "      cur_node = frontier.pop()\n",
    "      \n",
    "      if cur_node == dst:\n",
    "        expanded.append(cur_node)\n",
    "        path.append(cur_node)\n",
    "        while cur_node != src:\n",
    "          cur_node = parents[cur_node]\n",
    "          path.append(cur_node)\n",
    "        path.reverse()\n",
    "        continue\n",
    "      \n",
    "      expanded.append(cur_node)\n",
    "\n",
    "      if cur_node in g.AL:\n",
    "        neighbors = g.AL[cur_node]\n",
    "      \n",
    "      for (v, _) in neighbors:\n",
    "        if v not in frontier and v not in expanded:\n",
    "          frontier.append(v)\n",
    "          parents[v] = cur_node\n",
    "      \n",
    "    return expanded, path"
   ]
  },
  {
   "cell_type": "code",
   "execution_count": 384,
   "metadata": {
    "id": "xp3Vi2j5Zr00"
   },
   "outputs": [],
   "source": [
    "class UCS(SearchStrategy):\n",
    "  def search(self, g: Graph, src: int, dst: int) -> tuple:\n",
    "    expanded = []  # list of expanded vertices in the traversal order\n",
    "    path = []  # path from src to dst\n",
    "    parents = {src: None}\n",
    "    distances = {src: 0}\n",
    "\n",
    "    frontier = [(src, 0)]  # priority queue with (vertex, cost) pairs\n",
    "\n",
    "    while frontier:\n",
    "      cur_node, cur_cost = heapq.heappop(frontier)  # get the vertex with the lowest cost\n",
    "      expanded.append(cur_node)\n",
    "\n",
    "      if cur_node == dst:\n",
    "        path.append(cur_node)\n",
    "        while cur_node != src:\n",
    "          cur_node = parents[cur_node]\n",
    "          path.append(cur_node)\n",
    "        path.reverse()\n",
    "        break\n",
    "\n",
    "      if cur_node in g.AL:\n",
    "        neighbors = g.AL[cur_node]\n",
    "\n",
    "        for (v, edge_cost) in neighbors:\n",
    "          new_cost = cur_cost + edge_cost\n",
    "\n",
    "          if v not in distances or new_cost < distances[v]:\n",
    "            distances[v] = new_cost\n",
    "            parents[v] = cur_node\n",
    "            heapq.heappush(frontier, (v, new_cost))\n",
    "\n",
    "    return expanded, path\n",
    "    \n",
    "  \n",
    "    "
   ]
  },
  {
   "cell_type": "code",
   "execution_count": 385,
   "metadata": {
    "id": "akqnRp04Zsbt"
   },
   "outputs": [],
   "source": [
    "class DLS(SearchStrategy):\n",
    "  def __init__(self, LIM: int):\n",
    "    self.LIM = LIM\n",
    "\n",
    "  def search(self, g: Graph, src: int, dst: int) -> tuple:\n",
    "    expanded = [] # list of expanded vertices in the traversal order\n",
    "    path = [] # path from src to dst\n",
    "    \n",
    "    # TODO 4\n",
    "\n",
    "    return expanded, path"
   ]
  },
  {
   "cell_type": "code",
   "execution_count": 386,
   "metadata": {
    "id": "os7VMwXIZ4f2"
   },
   "outputs": [],
   "source": [
    "class IDS(SearchStrategy):\n",
    "  def __init__(self, MAX_LIM: int):\n",
    "    self.MAX_LIM = MAX_LIM\n",
    "\n",
    "  def search(self, g: Graph, src: int, dst: int) -> tuple:\n",
    "    expanded = [] # list of expanded vertices in the traversal order\n",
    "    path = [] # path from src to dst\n",
    "\n",
    "    # TODO 5\n",
    "\n",
    "    return expanded, path"
   ]
  },
  {
   "cell_type": "markdown",
   "metadata": {
    "id": "hzWhWbDMdItW"
   },
   "source": [
    "# Evaluation"
   ]
  },
  {
   "cell_type": "code",
   "execution_count": 387,
   "metadata": {
    "colab": {
     "base_uri": "https://localhost:8080/"
    },
    "id": "kI0wFSGuaKeT",
    "outputId": "62de56b5-b030-4ad2-c24a-b9895fc8e00e"
   },
   "outputs": [
    {
     "name": "stdout",
     "output_type": "stream",
     "text": [
      "<__main__.BFS object at 0x000001AD586C86E0>\n",
      "[0, 1, 2, 3, 4, 5, 6, 8, 7, 9]\n",
      "[0, 1, 3, 8, 9]\n",
      "<__main__.DFS object at 0x000001AD586C9490>\n",
      "[0, 2, 5, 7, 1, 4, 6, 8, 9, 3]\n",
      "[0, 1, 4, 6, 8, 9]\n",
      "<__main__.UCS object at 0x000001AD584BB260>\n"
     ]
    },
    {
     "ename": "AttributeError",
     "evalue": "'Graph' object has no attribute 'get_edge_weight'",
     "output_type": "error",
     "traceback": [
      "\u001b[1;31m---------------------------------------------------------------------------\u001b[0m",
      "\u001b[1;31mAttributeError\u001b[0m                            Traceback (most recent call last)",
      "Cell \u001b[1;32mIn[387], line 9\u001b[0m\n\u001b[0;32m      7\u001b[0m \u001b[38;5;28;01mfor\u001b[39;00m stg \u001b[38;5;129;01min\u001b[39;00m [bfs, dfs, ucs, dls, ids]:\n\u001b[0;32m      8\u001b[0m   \u001b[38;5;28mprint\u001b[39m(stg)\n\u001b[1;32m----> 9\u001b[0m   expanded, path \u001b[38;5;241m=\u001b[39m \u001b[43mstg\u001b[49m\u001b[38;5;241;43m.\u001b[39;49m\u001b[43msearch\u001b[49m\u001b[43m(\u001b[49m\u001b[43mg\u001b[49m\u001b[43m,\u001b[49m\u001b[43m \u001b[49m\u001b[38;5;241;43m0\u001b[39;49m\u001b[43m,\u001b[49m\u001b[43m \u001b[49m\u001b[43mg\u001b[49m\u001b[38;5;241;43m.\u001b[39;49m\u001b[43mV\u001b[49m\u001b[38;5;241;43m-\u001b[39;49m\u001b[38;5;241;43m1\u001b[39;49m\u001b[43m)\u001b[49m\n\u001b[0;32m     10\u001b[0m   \u001b[38;5;28mprint\u001b[39m(expanded)\n\u001b[0;32m     11\u001b[0m   \u001b[38;5;28mprint\u001b[39m(path)\n",
      "Cell \u001b[1;32mIn[384], line 27\u001b[0m, in \u001b[0;36mUCS.search\u001b[1;34m(self, g, src, dst)\u001b[0m\n\u001b[0;32m     25\u001b[0m \u001b[38;5;28;01mfor\u001b[39;00m (v, w) \u001b[38;5;129;01min\u001b[39;00m neighbors:\n\u001b[0;32m     26\u001b[0m   \u001b[38;5;28;01mif\u001b[39;00m v \u001b[38;5;129;01mnot\u001b[39;00m \u001b[38;5;129;01min\u001b[39;00m expanded:\n\u001b[1;32m---> 27\u001b[0m     new_cost \u001b[38;5;241m=\u001b[39m \u001b[43mg\u001b[49m\u001b[38;5;241;43m.\u001b[39;49m\u001b[43mget_edge_weight\u001b[49m(cur_node, v) \u001b[38;5;241m+\u001b[39m g\u001b[38;5;241m.\u001b[39mget_vertex_weight(v)\n\u001b[0;32m     28\u001b[0m     \u001b[38;5;28;01mif\u001b[39;00m v \u001b[38;5;129;01mnot\u001b[39;00m \u001b[38;5;129;01min\u001b[39;00m parents \u001b[38;5;129;01mor\u001b[39;00m new_cost \u001b[38;5;241m<\u001b[39m g\u001b[38;5;241m.\u001b[39mget_edge_weight(parents[v], v) \u001b[38;5;241m+\u001b[39m g\u001b[38;5;241m.\u001b[39mget_vertex_weight(v):\n\u001b[0;32m     29\u001b[0m       parents[v] \u001b[38;5;241m=\u001b[39m cur_node\n",
      "\u001b[1;31mAttributeError\u001b[0m: 'Graph' object has no attribute 'get_edge_weight'"
     ]
    }
   ],
   "source": [
    "bfs = BFS()\n",
    "dfs = DFS()\n",
    "ucs = UCS()\n",
    "dls = DLS(LIM=3)\n",
    "ids = IDS(MAX_LIM=5)\n",
    "\n",
    "for stg in [bfs, dfs, ucs, dls, ids]:\n",
    "  print(stg)\n",
    "  expanded, path = stg.search(g, 0, g.V-1)\n",
    "  print(expanded)\n",
    "  print(path)\n",
    "\n",
    "\n"
   ]
  },
  {
   "cell_type": "markdown",
   "metadata": {
    "id": "v_juZ-dPUlpP"
   },
   "source": [
    "# Submission"
   ]
  },
  {
   "cell_type": "markdown",
   "metadata": {
    "id": "svA6tZBfUmt_"
   },
   "source": [
    "*   Students download the notebook after completion\n",
    "*   Rename the notebook in which inserting your student ID at the beginning. \\\n",
    "For example, **123456-UninformedSearch-HW.ipynb**\n",
    "*   Finally, submit the file"
   ]
  }
 ],
 "metadata": {
  "colab": {
   "provenance": []
  },
  "kernelspec": {
   "display_name": "Python 3 (ipykernel)",
   "language": "python",
   "name": "python3"
  },
  "language_info": {
   "codemirror_mode": {
    "name": "ipython",
    "version": 3
   },
   "file_extension": ".py",
   "mimetype": "text/x-python",
   "name": "python",
   "nbconvert_exporter": "python",
   "pygments_lexer": "ipython3",
   "version": "3.12.2"
  }
 },
 "nbformat": 4,
 "nbformat_minor": 4
}
